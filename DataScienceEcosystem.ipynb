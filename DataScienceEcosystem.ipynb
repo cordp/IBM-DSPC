{
 "cells": [
  {
   "cell_type": "markdown",
   "id": "59fb3b6c-7e60-4420-8775-2db9b1ee2257",
   "metadata": {},
   "source": [
    "# Data Science Tools and Ecosystem"
   ]
  },
  {
   "cell_type": "markdown",
   "id": "d3137ae9-a8ae-446c-8640-7cee8a72b8c4",
   "metadata": {},
   "source": [
    "In this notebook, Data Science Tools and Ecosystem are summarized."
   ]
  },
  {
   "cell_type": "markdown",
   "id": "c666fd35-904c-412b-8c6a-e0607627fd35",
   "metadata": {},
   "source": [
    " __Objectives:__\n",
    " \n",
    " - List some of the popular languages used by Data Scientists\n",
    " - List some of the commonly used libraries used by Data Scientists\n",
    " - List some popular Data Science tools\n",
    " - Show some simple arthimetic examples in Python"
   ]
  },
  {
   "cell_type": "markdown",
   "id": "c7c547f8-ec85-4668-be1d-47702f94f103",
   "metadata": {},
   "source": [
    "Some of the popular languages that Data Scientists use are:\n",
    "\n",
    "1. Python\n",
    "2. R\n",
    "3. Julia\n"
   ]
  },
  {
   "cell_type": "markdown",
   "id": "43db9382-a520-4123-8525-54789b4a7771",
   "metadata": {},
   "source": [
    "Some of the commonly used libraries used by Data Scientists include:\n",
    "\n",
    "1. Pandas\n",
    "2. Numpy\n",
    "3. Matplotlib"
   ]
  },
  {
   "cell_type": "markdown",
   "id": "3293df3f-358c-45f4-ad31-cdf0d099b9a5",
   "metadata": {},
   "source": [
    "| Data Science Tools|\n",
    "| :- |\n",
    "| Apache Zeppelin|\n",
    "| RStudio |\n",
    "| Jupyter Notebooks|"
   ]
  },
  {
   "cell_type": "markdown",
   "id": "4ee72686-c912-483a-a7b9-7aec3998143d",
   "metadata": {},
   "source": [
    "### Below are a few examples of evaluating arithmetic expressions in Python"
   ]
  },
  {
   "cell_type": "code",
   "execution_count": 2,
   "id": "ad2a060f-6203-4812-a587-7eb94913bcb2",
   "metadata": {},
   "outputs": [
    {
     "data": {
      "text/plain": [
       "17"
      ]
     },
     "execution_count": 2,
     "metadata": {},
     "output_type": "execute_result"
    }
   ],
   "source": [
    "#  This a simple arithmetic expression to mutiply then add integers\n",
    "\n",
    "(3*4)+5"
   ]
  },
  {
   "cell_type": "code",
   "execution_count": 3,
   "id": "9cf4d125-b7d7-421c-a1bf-423b564ed8b6",
   "metadata": {},
   "outputs": [
    {
     "data": {
      "text/plain": [
       "3.3333333333333335"
      ]
     },
     "execution_count": 3,
     "metadata": {},
     "output_type": "execute_result"
    }
   ],
   "source": [
    "# This will convert 200 minutes to hours by diving by 60.\n",
    "\n",
    "200 / 60"
   ]
  },
  {
   "cell_type": "markdown",
   "id": "56fa9404-4f39-4d91-99ac-aad1142b88c2",
   "metadata": {},
   "source": [
    "## Author\n",
    "Cord Perillo"
   ]
  },
  {
   "cell_type": "code",
   "execution_count": null,
   "id": "a8a6bde9-a879-4205-b46d-3aba9105f3b6",
   "metadata": {},
   "outputs": [],
   "source": []
  }
 ],
 "metadata": {
  "kernelspec": {
   "display_name": "Python 3 (ipykernel)",
   "language": "python",
   "name": "python3"
  },
  "language_info": {
   "codemirror_mode": {
    "name": "ipython",
    "version": 3
   },
   "file_extension": ".py",
   "mimetype": "text/x-python",
   "name": "python",
   "nbconvert_exporter": "python",
   "pygments_lexer": "ipython3",
   "version": "3.10.13"
  }
 },
 "nbformat": 4,
 "nbformat_minor": 5
}
